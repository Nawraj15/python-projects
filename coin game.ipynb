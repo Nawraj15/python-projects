{
 "cells": [
  {
   "cell_type": "code",
   "execution_count": 47,
   "id": "371d23a5-c307-4981-bfad-e271efc51473",
   "metadata": {},
   "outputs": [
    {
     "name": "stdin",
     "output_type": "stream",
     "text": [
      "enter you amount: Rs 100\n"
     ]
    },
    {
     "name": "stdout",
     "output_type": "stream",
     "text": [
      "you got: head and head\n",
      " Both are same ! You win double money\n",
      "your final amount: Rs  200\n"
     ]
    }
   ],
   "source": [
    "amount = int ( input ( \"enter you amount: Rs\" ))\n",
    "\n",
    "coin1 = random.choice ([\"head\" , \" tail\"])\n",
    "coin2 = random.choice([\"head\" , \"tail\"])\n",
    "\n",
    "print (\"you got:\", coin1, \"and\", coin2)\n",
    "\n",
    "if coin1 == coin2 :\n",
    "    print(\" Both are same ! You win double money\")\n",
    "    amount = amount*2\n",
    "\n",
    "else:\n",
    "    print(\"Both are different ! you Lost\")\n",
    "\n",
    "print(\"your final amount: Rs \", amount)\n",
    "\n"
   ]
  }
 ],
 "metadata": {
  "kernelspec": {
   "display_name": "Python 3 (ipykernel)",
   "language": "python",
   "name": "python3"
  },
  "language_info": {
   "codemirror_mode": {
    "name": "ipython",
    "version": 3
   },
   "file_extension": ".py",
   "mimetype": "text/x-python",
   "name": "python",
   "nbconvert_exporter": "python",
   "pygments_lexer": "ipython3",
   "version": "3.13.4"
  }
 },
 "nbformat": 4,
 "nbformat_minor": 5
}
