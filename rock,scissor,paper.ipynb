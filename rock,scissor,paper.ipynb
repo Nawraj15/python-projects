{
 "cells": [
  {
   "cell_type": "code",
   "execution_count": 37,
   "id": "68bb9515-e6f8-40b6-bf2b-5fb389608c56",
   "metadata": {},
   "outputs": [
    {
     "name": "stdin",
     "output_type": "stream",
     "text": [
      "Choose rock, paper or scissors:  rock\n"
     ]
    },
    {
     "name": "stdout",
     "output_type": "stream",
     "text": [
      "Computer chose: rock\n",
      "It's a tie!\n"
     ]
    }
   ],
   "source": [
    "import random\n",
    "\n",
    "user = input(\"Choose rock, paper or scissors: \")\n",
    "\n",
    "computer = random.choice([\"rock\", \"paper\", \"scissors\"])\n",
    "\n",
    "print(\"Computer chose:\", computer)\n",
    "\n",
    "if user == computer:\n",
    "    print(\"It's a tie!\")\n",
    "elif (user == \"rock\" and computer == \"scissors\") or \\\n",
    "     (user == \"paper\" and computer == \"rock\") or \\\n",
    "     (user == \"scissors\" and computer == \"paper\"):\n",
    "    print(\"You win!\")\n",
    "else:\n",
    "    print(\"You lose!\")\n"
   ]
  }
 ],
 "metadata": {
  "kernelspec": {
   "display_name": "Python 3 (ipykernel)",
   "language": "python",
   "name": "python3"
  },
  "language_info": {
   "codemirror_mode": {
    "name": "ipython",
    "version": 3
   },
   "file_extension": ".py",
   "mimetype": "text/x-python",
   "name": "python",
   "nbconvert_exporter": "python",
   "pygments_lexer": "ipython3",
   "version": "3.13.4"
  }
 },
 "nbformat": 4,
 "nbformat_minor": 5
}
