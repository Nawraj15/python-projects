{
 "cells": [
  {
   "cell_type": "code",
   "execution_count": 3,
   "id": "47853f6a-370a-4f14-94fe-37e91ea39900",
   "metadata": {},
   "outputs": [
    {
     "name": "stdin",
     "output_type": "stream",
     "text": [
      "Choose one symbol (flag, crown, diamond, heart, spade, club):  flag\n"
     ]
    },
    {
     "name": "stdout",
     "output_type": "stream",
     "text": [
      "Dice rolled: ['flag', 'spade', 'crown', 'flag', 'crown', 'diamond']\n",
      "You win!  2 times.\n"
     ]
    }
   ],
   "source": [
    "import random\n",
    "\n",
    "symbols = [\"flag\", \"crown\", \"diamond\", \"heart\", \"spade\", \"club\"]\n",
    "\n",
    "user = input(\"Choose one symbol (flag, crown, diamond, heart, spade, club): \")\n",
    "\n",
    "dice = [random.choice(symbols) for _ in range(6)]\n",
    "\n",
    "print(\"Dice rolled:\", dice)\n",
    "\n",
    "count = dice.count(user)\n",
    "\n",
    "\n",
    "if count > 0:\n",
    "    print(\"You win! \", count, \"times.\")\n",
    "else:\n",
    "    print(\"You lose! \")\n"
   ]
  }
 ],
 "metadata": {
  "kernelspec": {
   "display_name": "Python 3 (ipykernel)",
   "language": "python",
   "name": "python3"
  },
  "language_info": {
   "codemirror_mode": {
    "name": "ipython",
    "version": 3
   },
   "file_extension": ".py",
   "mimetype": "text/x-python",
   "name": "python",
   "nbconvert_exporter": "python",
   "pygments_lexer": "ipython3",
   "version": "3.13.4"
  }
 },
 "nbformat": 4,
 "nbformat_minor": 5
}
